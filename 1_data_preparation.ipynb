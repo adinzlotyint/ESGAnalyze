{
 "cells": [
  {
   "cell_type": "markdown",
   "id": "ac9cd781",
   "metadata": {},
   "source": [
    "## **1. Przygotowanie zbioru danych**"
   ]
  },
  {
   "cell_type": "markdown",
   "id": "9dbff71d",
   "metadata": {},
   "source": [
    "### **Uwaga!**\n",
    "Ze względu na poufność danych, surowe raporty i adnotacje ekspertów nie są zawarte w tym repozytorium."
   ]
  },
  {
   "cell_type": "markdown",
   "id": "8933aa92",
   "metadata": {},
   "source": [
    "### **Problem:** \n",
    "Wieloetykietowa klasyfikacja długich, nieustrukturyzowanych dokumentów w języku polskim, w warunkach silnego niezbalansowania klas."
   ]
  },
  {
   "cell_type": "markdown",
   "id": "5ba59e66",
   "metadata": {},
   "source": [
    "### **Model enkodera:** sdadas/polish-longformer-base-4096 (https://huggingface.co/sdadas/polish-longformer-base-4096)"
   ]
  },
  {
   "cell_type": "markdown",
   "id": "eb90f0b4",
   "metadata": {},
   "source": [
    "#### **Import Bibliotek**"
   ]
  },
  {
   "cell_type": "code",
   "execution_count": 1,
   "id": "8aea2793",
   "metadata": {},
   "outputs": [],
   "source": [
    "import os\n",
    "import numpy as np\n",
    "import pandas as pd\n",
    "import plotly.express as px\n",
    "from skmultilearn.model_selection import iterative_train_test_split"
   ]
  },
  {
   "cell_type": "code",
   "execution_count": 2,
   "id": "732245d0",
   "metadata": {},
   "outputs": [],
   "source": [
    "with open('data/data.jsonl', 'r') as f:\n",
    "    df = pd.read_json(f, lines=True)"
   ]
  },
  {
   "cell_type": "markdown",
   "id": "610af468",
   "metadata": {},
   "source": [
    "#### **1.2. Stratyfikacja iteracyjna na głównym zbiorze.**"
   ]
  },
  {
   "cell_type": "code",
   "execution_count": 3,
   "id": "c57e7451",
   "metadata": {},
   "outputs": [],
   "source": [
    "X = df['text'].values.reshape(-1, 1)\n",
    "y = np.array(df['labels'].tolist())"
   ]
  },
  {
   "cell_type": "code",
   "execution_count": 4,
   "id": "e7370ff4",
   "metadata": {},
   "outputs": [],
   "source": [
    "# Pierwszy podział: na zbiór treningowy (70%) i tymczasowy (30%)\n",
    "X_train, y_train, X_temp, y_temp = iterative_train_test_split(\n",
    "    X, y, test_size=0.3\n",
    ")\n",
    "\n",
    "# Drugi podział: dzielimy zbiór tymczasowy (30%) na pół (15% walidacyjny i 15% testowy)\n",
    "X_val, y_val, X_test, y_test = iterative_train_test_split(\n",
    "    X_temp, y_temp, test_size=0.5\n",
    ")"
   ]
  },
  {
   "cell_type": "markdown",
   "id": "bb9e2138",
   "metadata": {},
   "source": [
    "#### **1.3. Stworzenie DataFrame dla zbioru treningowego, testowego i walidacyjnego.**"
   ]
  },
  {
   "cell_type": "code",
   "execution_count": 5,
   "id": "3f7e67fe",
   "metadata": {},
   "outputs": [],
   "source": [
    "train_df = pd.DataFrame({\n",
    "    'text': X_train.ravel(),\n",
    "    'labels': [list(label) for label in y_train]\n",
    "})\n",
    "\n",
    "val_df = pd.DataFrame({\n",
    "    'text': X_val.ravel(),\n",
    "    'labels': [list(label) for label in y_val]\n",
    "})\n",
    "\n",
    "test_df = pd.DataFrame({\n",
    "    'text': X_test.ravel(),\n",
    "    'labels': [list(label) for label in y_test]\n",
    "})"
   ]
  },
  {
   "cell_type": "code",
   "execution_count": 6,
   "id": "f77431d6",
   "metadata": {},
   "outputs": [
    {
     "name": "stdout",
     "output_type": "stream",
     "text": [
      "Zbiór treningowy: 275 raportów\n",
      "Zbiór walidacyjny: 59 raportów\n",
      "Zbiór testowy:    59 raportów\n"
     ]
    }
   ],
   "source": [
    "print(f\"Zbiór treningowy: {len(train_df)} raportów\")\n",
    "print(f\"Zbiór walidacyjny: {len(val_df)} raportów\")\n",
    "print(f\"Zbiór testowy:    {len(test_df)} raportów\")"
   ]
  },
  {
   "cell_type": "markdown",
   "id": "6c68a21a",
   "metadata": {},
   "source": [
    "#### **1.4. Dodanie unikalnych identyfikatorów (doc_id).**"
   ]
  },
  {
   "cell_type": "code",
   "execution_count": 7,
   "id": "eb9702f3",
   "metadata": {},
   "outputs": [],
   "source": [
    "train_df['doc_id'] = [f'train_{i}' for i in range(len(train_df))]\n",
    "val_df['doc_id'] = [f'val_{i}' for i in range(len(val_df))]\n",
    "test_df['doc_id'] = [f'test_{i}' for i in range(len(test_df))]"
   ]
  },
  {
   "cell_type": "markdown",
   "id": "888d7a46",
   "metadata": {},
   "source": [
    "#### **1.5. Wizualizacja podzielonych zbiorów.**"
   ]
  },
  {
   "cell_type": "code",
   "execution_count": 8,
   "id": "b46d07f4",
   "metadata": {},
   "outputs": [],
   "source": [
    "datasets = {\n",
    "    \"Oryginalny\": y,\n",
    "    \"Treningowy\": y_train,\n",
    "    \"Walidacyjny\": y_val,\n",
    "    \"Testowy\": y_test\n",
    "}\n",
    "\n",
    "plot_data = []\n",
    "kryteria_names = [f\"Kryterium {i+1}\" for i in range(y.shape[1])]\n",
    "\n",
    "for name, labels_array in datasets.items():\n",
    "    distribution = np.sum(labels_array, axis=0) / len(labels_array)\n",
    "    for i, percentage in enumerate(distribution):\n",
    "        plot_data.append({\n",
    "            \"Zbiór Danych\": name,\n",
    "            \"Kryterium\": kryteria_names[i],\n",
    "            \"Odsetek Wystąpień\": percentage\n",
    "        })\n",
    "\n",
    "dist_df = pd.DataFrame(plot_data)"
   ]
  },
  {
   "cell_type": "code",
   "execution_count": 9,
   "id": "d8069554",
   "metadata": {},
   "outputs": [
    {
     "data": {
      "application/vnd.plotly.v1+json": {
       "config": {
        "plotlyServerURL": "https://plot.ly"
       },
       "data": [
        {
         "alignmentgroup": "True",
         "hovertemplate": "Zbiór Danych=Oryginalny<br>Numer Kryterium ESG=%{x}<br>Odsetek Wystąpień Etykiety '1'=%{y}<extra></extra>",
         "legendgroup": "Oryginalny",
         "marker": {
          "color": "#636efa",
          "pattern": {
           "shape": ""
          }
         },
         "name": "Oryginalny",
         "offsetgroup": "Oryginalny",
         "orientation": "v",
         "showlegend": true,
         "textposition": "outside",
         "texttemplate": "%{y:.1%}",
         "type": "bar",
         "x": [
          "Kryterium 1",
          "Kryterium 2",
          "Kryterium 3",
          "Kryterium 4",
          "Kryterium 5",
          "Kryterium 6"
         ],
         "xaxis": "x",
         "y": {
          "bdata": "JIj3ZP3j4j8HDYyhyGzRPyP6gOrYW9s/THMX/FWc4D/yLCP6gOrYP0ws3L5D2MQ/",
          "dtype": "f8"
         },
         "yaxis": "y"
        },
        {
         "alignmentgroup": "True",
         "hovertemplate": "Zbiór Danych=Treningowy<br>Numer Kryterium ESG=%{x}<br>Odsetek Wystąpień Etykiety '1'=%{y}<extra></extra>",
         "legendgroup": "Treningowy",
         "marker": {
          "color": "#EF553B",
          "pattern": {
           "shape": ""
          }
         },
         "name": "Treningowy",
         "offsetgroup": "Treningowy",
         "orientation": "v",
         "showlegend": true,
         "textposition": "outside",
         "texttemplate": "%{y:.1%}",
         "type": "bar",
         "x": [
          "Kryterium 1",
          "Kryterium 2",
          "Kryterium 3",
          "Kryterium 4",
          "Kryterium 5",
          "Kryterium 6"
         ],
         "xaxis": "x",
         "y": {
          "bdata": "2lKdLdXZ4j85kYwTyTjRP9XZUp0t1dk/LfDKAq8s4D/n2G2O3ebYP2kVk1YxacU/",
          "dtype": "f8"
         },
         "yaxis": "y"
        },
        {
         "alignmentgroup": "True",
         "hovertemplate": "Zbiór Danych=Walidacyjny<br>Numer Kryterium ESG=%{x}<br>Odsetek Wystąpień Etykiety '1'=%{y}<extra></extra>",
         "legendgroup": "Walidacyjny",
         "marker": {
          "color": "#00cc96",
          "pattern": {
           "shape": ""
          }
         },
         "name": "Walidacyjny",
         "offsetgroup": "Walidacyjny",
         "orientation": "v",
         "showlegend": true,
         "textposition": "outside",
         "texttemplate": "%{y:.1%}",
         "type": "bar",
         "x": [
          "Kryterium 1",
          "Kryterium 2",
          "Kryterium 3",
          "Kryterium 4",
          "Kryterium 5",
          "Kryterium 6"
         ],
         "xaxis": "x",
         "y": {
          "bdata": "tiJoOKn74j9+eWxF0HDSP8hWBA0ndd8/RdBwUvfl4T8jaDip+/LYP+/LYyuChsM/",
          "dtype": "f8"
         },
         "yaxis": "y"
        },
        {
         "alignmentgroup": "True",
         "hovertemplate": "Zbiór Danych=Testowy<br>Numer Kryterium ESG=%{x}<br>Odsetek Wystąpień Etykiety '1'=%{y}<extra></extra>",
         "legendgroup": "Testowy",
         "marker": {
          "color": "#ab63fa",
          "pattern": {
           "shape": ""
          }
         },
         "name": "Testowy",
         "offsetgroup": "Testowy",
         "orientation": "v",
         "showlegend": true,
         "textposition": "outside",
         "texttemplate": "%{y:.1%}",
         "type": "bar",
         "x": [
          "Kryterium 1",
          "Kryterium 2",
          "Kryterium 3",
          "Kryterium 4",
          "Kryterium 5",
          "Kryterium 6"
         ],
         "xaxis": "x",
         "y": {
          "bdata": "tiJoOKn74j8NJ3VfHlvRP1cEDSd1X94/DSd1Xx5b4T8jaDip+/LYP+/LYyuChsM/",
          "dtype": "f8"
         },
         "yaxis": "y"
        }
       ],
       "layout": {
        "barmode": "group",
        "font": {
         "color": "black",
         "family": "Times New Roman",
         "size": 12
        },
        "legend": {
         "title": {
          "text": "Zbiór Danych"
         },
         "tracegroupgap": 0
        },
        "margin": {
         "t": 60
        },
        "template": {
         "data": {
          "bar": [
           {
            "error_x": {
             "color": "#2a3f5f"
            },
            "error_y": {
             "color": "#2a3f5f"
            },
            "marker": {
             "line": {
              "color": "white",
              "width": 0.5
             },
             "pattern": {
              "fillmode": "overlay",
              "size": 10,
              "solidity": 0.2
             }
            },
            "type": "bar"
           }
          ],
          "barpolar": [
           {
            "marker": {
             "line": {
              "color": "white",
              "width": 0.5
             },
             "pattern": {
              "fillmode": "overlay",
              "size": 10,
              "solidity": 0.2
             }
            },
            "type": "barpolar"
           }
          ],
          "carpet": [
           {
            "aaxis": {
             "endlinecolor": "#2a3f5f",
             "gridcolor": "#C8D4E3",
             "linecolor": "#C8D4E3",
             "minorgridcolor": "#C8D4E3",
             "startlinecolor": "#2a3f5f"
            },
            "baxis": {
             "endlinecolor": "#2a3f5f",
             "gridcolor": "#C8D4E3",
             "linecolor": "#C8D4E3",
             "minorgridcolor": "#C8D4E3",
             "startlinecolor": "#2a3f5f"
            },
            "type": "carpet"
           }
          ],
          "choropleth": [
           {
            "colorbar": {
             "outlinewidth": 0,
             "ticks": ""
            },
            "type": "choropleth"
           }
          ],
          "contour": [
           {
            "colorbar": {
             "outlinewidth": 0,
             "ticks": ""
            },
            "colorscale": [
             [
              0,
              "#0d0887"
             ],
             [
              0.1111111111111111,
              "#46039f"
             ],
             [
              0.2222222222222222,
              "#7201a8"
             ],
             [
              0.3333333333333333,
              "#9c179e"
             ],
             [
              0.4444444444444444,
              "#bd3786"
             ],
             [
              0.5555555555555556,
              "#d8576b"
             ],
             [
              0.6666666666666666,
              "#ed7953"
             ],
             [
              0.7777777777777778,
              "#fb9f3a"
             ],
             [
              0.8888888888888888,
              "#fdca26"
             ],
             [
              1,
              "#f0f921"
             ]
            ],
            "type": "contour"
           }
          ],
          "contourcarpet": [
           {
            "colorbar": {
             "outlinewidth": 0,
             "ticks": ""
            },
            "type": "contourcarpet"
           }
          ],
          "heatmap": [
           {
            "colorbar": {
             "outlinewidth": 0,
             "ticks": ""
            },
            "colorscale": [
             [
              0,
              "#0d0887"
             ],
             [
              0.1111111111111111,
              "#46039f"
             ],
             [
              0.2222222222222222,
              "#7201a8"
             ],
             [
              0.3333333333333333,
              "#9c179e"
             ],
             [
              0.4444444444444444,
              "#bd3786"
             ],
             [
              0.5555555555555556,
              "#d8576b"
             ],
             [
              0.6666666666666666,
              "#ed7953"
             ],
             [
              0.7777777777777778,
              "#fb9f3a"
             ],
             [
              0.8888888888888888,
              "#fdca26"
             ],
             [
              1,
              "#f0f921"
             ]
            ],
            "type": "heatmap"
           }
          ],
          "histogram": [
           {
            "marker": {
             "pattern": {
              "fillmode": "overlay",
              "size": 10,
              "solidity": 0.2
             }
            },
            "type": "histogram"
           }
          ],
          "histogram2d": [
           {
            "colorbar": {
             "outlinewidth": 0,
             "ticks": ""
            },
            "colorscale": [
             [
              0,
              "#0d0887"
             ],
             [
              0.1111111111111111,
              "#46039f"
             ],
             [
              0.2222222222222222,
              "#7201a8"
             ],
             [
              0.3333333333333333,
              "#9c179e"
             ],
             [
              0.4444444444444444,
              "#bd3786"
             ],
             [
              0.5555555555555556,
              "#d8576b"
             ],
             [
              0.6666666666666666,
              "#ed7953"
             ],
             [
              0.7777777777777778,
              "#fb9f3a"
             ],
             [
              0.8888888888888888,
              "#fdca26"
             ],
             [
              1,
              "#f0f921"
             ]
            ],
            "type": "histogram2d"
           }
          ],
          "histogram2dcontour": [
           {
            "colorbar": {
             "outlinewidth": 0,
             "ticks": ""
            },
            "colorscale": [
             [
              0,
              "#0d0887"
             ],
             [
              0.1111111111111111,
              "#46039f"
             ],
             [
              0.2222222222222222,
              "#7201a8"
             ],
             [
              0.3333333333333333,
              "#9c179e"
             ],
             [
              0.4444444444444444,
              "#bd3786"
             ],
             [
              0.5555555555555556,
              "#d8576b"
             ],
             [
              0.6666666666666666,
              "#ed7953"
             ],
             [
              0.7777777777777778,
              "#fb9f3a"
             ],
             [
              0.8888888888888888,
              "#fdca26"
             ],
             [
              1,
              "#f0f921"
             ]
            ],
            "type": "histogram2dcontour"
           }
          ],
          "mesh3d": [
           {
            "colorbar": {
             "outlinewidth": 0,
             "ticks": ""
            },
            "type": "mesh3d"
           }
          ],
          "parcoords": [
           {
            "line": {
             "colorbar": {
              "outlinewidth": 0,
              "ticks": ""
             }
            },
            "type": "parcoords"
           }
          ],
          "pie": [
           {
            "automargin": true,
            "type": "pie"
           }
          ],
          "scatter": [
           {
            "fillpattern": {
             "fillmode": "overlay",
             "size": 10,
             "solidity": 0.2
            },
            "type": "scatter"
           }
          ],
          "scatter3d": [
           {
            "line": {
             "colorbar": {
              "outlinewidth": 0,
              "ticks": ""
             }
            },
            "marker": {
             "colorbar": {
              "outlinewidth": 0,
              "ticks": ""
             }
            },
            "type": "scatter3d"
           }
          ],
          "scattercarpet": [
           {
            "marker": {
             "colorbar": {
              "outlinewidth": 0,
              "ticks": ""
             }
            },
            "type": "scattercarpet"
           }
          ],
          "scattergeo": [
           {
            "marker": {
             "colorbar": {
              "outlinewidth": 0,
              "ticks": ""
             }
            },
            "type": "scattergeo"
           }
          ],
          "scattergl": [
           {
            "marker": {
             "colorbar": {
              "outlinewidth": 0,
              "ticks": ""
             }
            },
            "type": "scattergl"
           }
          ],
          "scattermap": [
           {
            "marker": {
             "colorbar": {
              "outlinewidth": 0,
              "ticks": ""
             }
            },
            "type": "scattermap"
           }
          ],
          "scattermapbox": [
           {
            "marker": {
             "colorbar": {
              "outlinewidth": 0,
              "ticks": ""
             }
            },
            "type": "scattermapbox"
           }
          ],
          "scatterpolar": [
           {
            "marker": {
             "colorbar": {
              "outlinewidth": 0,
              "ticks": ""
             }
            },
            "type": "scatterpolar"
           }
          ],
          "scatterpolargl": [
           {
            "marker": {
             "colorbar": {
              "outlinewidth": 0,
              "ticks": ""
             }
            },
            "type": "scatterpolargl"
           }
          ],
          "scatterternary": [
           {
            "marker": {
             "colorbar": {
              "outlinewidth": 0,
              "ticks": ""
             }
            },
            "type": "scatterternary"
           }
          ],
          "surface": [
           {
            "colorbar": {
             "outlinewidth": 0,
             "ticks": ""
            },
            "colorscale": [
             [
              0,
              "#0d0887"
             ],
             [
              0.1111111111111111,
              "#46039f"
             ],
             [
              0.2222222222222222,
              "#7201a8"
             ],
             [
              0.3333333333333333,
              "#9c179e"
             ],
             [
              0.4444444444444444,
              "#bd3786"
             ],
             [
              0.5555555555555556,
              "#d8576b"
             ],
             [
              0.6666666666666666,
              "#ed7953"
             ],
             [
              0.7777777777777778,
              "#fb9f3a"
             ],
             [
              0.8888888888888888,
              "#fdca26"
             ],
             [
              1,
              "#f0f921"
             ]
            ],
            "type": "surface"
           }
          ],
          "table": [
           {
            "cells": {
             "fill": {
              "color": "#EBF0F8"
             },
             "line": {
              "color": "white"
             }
            },
            "header": {
             "fill": {
              "color": "#C8D4E3"
             },
             "line": {
              "color": "white"
             }
            },
            "type": "table"
           }
          ]
         },
         "layout": {
          "annotationdefaults": {
           "arrowcolor": "#2a3f5f",
           "arrowhead": 0,
           "arrowwidth": 1
          },
          "autotypenumbers": "strict",
          "coloraxis": {
           "colorbar": {
            "outlinewidth": 0,
            "ticks": ""
           }
          },
          "colorscale": {
           "diverging": [
            [
             0,
             "#8e0152"
            ],
            [
             0.1,
             "#c51b7d"
            ],
            [
             0.2,
             "#de77ae"
            ],
            [
             0.3,
             "#f1b6da"
            ],
            [
             0.4,
             "#fde0ef"
            ],
            [
             0.5,
             "#f7f7f7"
            ],
            [
             0.6,
             "#e6f5d0"
            ],
            [
             0.7,
             "#b8e186"
            ],
            [
             0.8,
             "#7fbc41"
            ],
            [
             0.9,
             "#4d9221"
            ],
            [
             1,
             "#276419"
            ]
           ],
           "sequential": [
            [
             0,
             "#0d0887"
            ],
            [
             0.1111111111111111,
             "#46039f"
            ],
            [
             0.2222222222222222,
             "#7201a8"
            ],
            [
             0.3333333333333333,
             "#9c179e"
            ],
            [
             0.4444444444444444,
             "#bd3786"
            ],
            [
             0.5555555555555556,
             "#d8576b"
            ],
            [
             0.6666666666666666,
             "#ed7953"
            ],
            [
             0.7777777777777778,
             "#fb9f3a"
            ],
            [
             0.8888888888888888,
             "#fdca26"
            ],
            [
             1,
             "#f0f921"
            ]
           ],
           "sequentialminus": [
            [
             0,
             "#0d0887"
            ],
            [
             0.1111111111111111,
             "#46039f"
            ],
            [
             0.2222222222222222,
             "#7201a8"
            ],
            [
             0.3333333333333333,
             "#9c179e"
            ],
            [
             0.4444444444444444,
             "#bd3786"
            ],
            [
             0.5555555555555556,
             "#d8576b"
            ],
            [
             0.6666666666666666,
             "#ed7953"
            ],
            [
             0.7777777777777778,
             "#fb9f3a"
            ],
            [
             0.8888888888888888,
             "#fdca26"
            ],
            [
             1,
             "#f0f921"
            ]
           ]
          },
          "colorway": [
           "#636efa",
           "#EF553B",
           "#00cc96",
           "#ab63fa",
           "#FFA15A",
           "#19d3f3",
           "#FF6692",
           "#B6E880",
           "#FF97FF",
           "#FECB52"
          ],
          "font": {
           "color": "#2a3f5f"
          },
          "geo": {
           "bgcolor": "white",
           "lakecolor": "white",
           "landcolor": "white",
           "showlakes": true,
           "showland": true,
           "subunitcolor": "#C8D4E3"
          },
          "hoverlabel": {
           "align": "left"
          },
          "hovermode": "closest",
          "mapbox": {
           "style": "light"
          },
          "paper_bgcolor": "white",
          "plot_bgcolor": "white",
          "polar": {
           "angularaxis": {
            "gridcolor": "#EBF0F8",
            "linecolor": "#EBF0F8",
            "ticks": ""
           },
           "bgcolor": "white",
           "radialaxis": {
            "gridcolor": "#EBF0F8",
            "linecolor": "#EBF0F8",
            "ticks": ""
           }
          },
          "scene": {
           "xaxis": {
            "backgroundcolor": "white",
            "gridcolor": "#DFE8F3",
            "gridwidth": 2,
            "linecolor": "#EBF0F8",
            "showbackground": true,
            "ticks": "",
            "zerolinecolor": "#EBF0F8"
           },
           "yaxis": {
            "backgroundcolor": "white",
            "gridcolor": "#DFE8F3",
            "gridwidth": 2,
            "linecolor": "#EBF0F8",
            "showbackground": true,
            "ticks": "",
            "zerolinecolor": "#EBF0F8"
           },
           "zaxis": {
            "backgroundcolor": "white",
            "gridcolor": "#DFE8F3",
            "gridwidth": 2,
            "linecolor": "#EBF0F8",
            "showbackground": true,
            "ticks": "",
            "zerolinecolor": "#EBF0F8"
           }
          },
          "shapedefaults": {
           "line": {
            "color": "#2a3f5f"
           }
          },
          "ternary": {
           "aaxis": {
            "gridcolor": "#DFE8F3",
            "linecolor": "#A2B1C6",
            "ticks": ""
           },
           "baxis": {
            "gridcolor": "#DFE8F3",
            "linecolor": "#A2B1C6",
            "ticks": ""
           },
           "bgcolor": "white",
           "caxis": {
            "gridcolor": "#DFE8F3",
            "linecolor": "#A2B1C6",
            "ticks": ""
           }
          },
          "title": {
           "x": 0.05
          },
          "xaxis": {
           "automargin": true,
           "gridcolor": "#EBF0F8",
           "linecolor": "#EBF0F8",
           "ticks": "",
           "title": {
            "standoff": 15
           },
           "zerolinecolor": "#EBF0F8",
           "zerolinewidth": 2
          },
          "yaxis": {
           "automargin": true,
           "gridcolor": "#EBF0F8",
           "linecolor": "#EBF0F8",
           "ticks": "",
           "title": {
            "standoff": 15
           },
           "zerolinecolor": "#EBF0F8",
           "zerolinewidth": 2
          }
         }
        },
        "uniformtext": {
         "minsize": 8,
         "mode": "hide"
        },
        "width": 800,
        "xaxis": {
         "anchor": "y",
         "domain": [
          0,
          1
         ],
         "title": {
          "text": "Numer Kryterium ESG"
         }
        },
        "yaxis": {
         "anchor": "x",
         "domain": [
          0,
          1
         ],
         "tickformat": ".0%",
         "title": {
          "text": "Odsetek Wystąpień Etykiety '1'"
         }
        }
       }
      }
     },
     "metadata": {},
     "output_type": "display_data"
    }
   ],
   "source": [
    "fig = px.bar(\n",
    "    dist_df,\n",
    "    x=\"Kryterium\",\n",
    "    y=\"Odsetek Wystąpień\",\n",
    "    color=\"Zbiór Danych\",\n",
    "    barmode=\"group\",\n",
    "    labels={\n",
    "        \"Odsetek Wystąpień\": \"Odsetek Wystąpień Etykiety '1'\",\n",
    "        \"Kryterium\": \"Numer Kryterium ESG\"\n",
    "    },\n",
    "    text_auto='.1%',\n",
    ")\n",
    "\n",
    "fig.update_layout(\n",
    "    yaxis_tickformat=\".0%\",\n",
    "    legend_title_text='Zbiór Danych',\n",
    "    font=dict(family=\"Arial, sans-serif\", size=12),\n",
    "    template=\"plotly_white\",\n",
    "    uniformtext_minsize=8, \n",
    "    uniformtext_mode='hide',\n",
    "    width=800,\n",
    "    font_family=\"Times New Roman\",\n",
    "    font_color=\"black\",\n",
    ")\n",
    "\n",
    "fig.update_traces(textposition='outside')\n",
    "fig.show()"
   ]
  },
  {
   "cell_type": "markdown",
   "id": "39ba0bb4",
   "metadata": {},
   "source": [
    "#### **1.6. Zapis podzielonych zbiorów do plików .jsonl.**"
   ]
  },
  {
   "cell_type": "code",
   "execution_count": 10,
   "id": "1365a17f",
   "metadata": {},
   "outputs": [],
   "source": [
    "output_dir = \"data/data_split\"\n",
    "os.makedirs(output_dir, exist_ok=True)\n",
    "\n",
    "datasets_to_save = {\n",
    "    \"train\": train_df,\n",
    "    \"validation\": val_df,\n",
    "    \"test\": test_df\n",
    "}\n",
    "\n",
    "for name, df_to_save in datasets_to_save.items():\n",
    "    file_path = os.path.join(output_dir, f\"{name}.jsonl\")\n",
    "    df_to_save.to_json(\n",
    "        file_path,\n",
    "        orient='records',\n",
    "        lines=True,\n",
    "        force_ascii=False,\n",
    "        index=False\n",
    "    )"
   ]
  }
 ],
 "metadata": {
  "kernelspec": {
   "display_name": "venv",
   "language": "python",
   "name": "python3"
  },
  "language_info": {
   "codemirror_mode": {
    "name": "ipython",
    "version": 3
   },
   "file_extension": ".py",
   "mimetype": "text/x-python",
   "name": "python",
   "nbconvert_exporter": "python",
   "pygments_lexer": "ipython3",
   "version": "3.12.3"
  }
 },
 "nbformat": 4,
 "nbformat_minor": 5
}
