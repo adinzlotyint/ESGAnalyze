{
 "cells": [
  {
   "cell_type": "markdown",
   "id": "ac9cd781",
   "metadata": {},
   "source": [
    "## **1. Przygotowanie zbioru danych**"
   ]
  },
  {
   "cell_type": "markdown",
   "id": "9dbff71d",
   "metadata": {},
   "source": [
    "### **Uwaga!**\n",
    "Ze względu na poufność danych, surowe raporty i adnotacje ekspertów nie są zawarte w tym repozytorium."
   ]
  },
  {
   "cell_type": "markdown",
   "id": "5ba59e66",
   "metadata": {},
   "source": [
    "### **Model bazowy:** speakleash/Bielik-1.5B-v3 (https://huggingface.co/speakleash/Bielik-1.5B-v3)"
   ]
  },
  {
   "cell_type": "markdown",
   "id": "eb90f0b4",
   "metadata": {},
   "source": [
    "#### **Import Bibliotek**"
   ]
  },
  {
   "cell_type": "code",
   "execution_count": null,
   "id": "8aea2793",
   "metadata": {},
   "outputs": [],
   "source": [
    "import os\n",
    "import numpy as np\n",
    "import pandas as pd\n",
    "import plotly.express as px\n",
    "from skmultilearn.model_selection import iterative_train_test_split"
   ]
  },
  {
   "cell_type": "code",
   "execution_count": null,
   "id": "732245d0",
   "metadata": {},
   "outputs": [],
   "source": [
    "with open('data/data.jsonl', 'r') as f:\n",
    "    df = pd.read_json(f, lines=True)"
   ]
  },
  {
   "cell_type": "markdown",
   "id": "7e8a0f49",
   "metadata": {},
   "source": [
    "#### **1.1. Izolacja rzadkich klas.**"
   ]
  },
  {
   "cell_type": "markdown",
   "id": "1a727f52",
   "metadata": {},
   "source": [
    "Transformacja list (zmienny typ danych) do krotek (niezmienny typ danych), na potrzeby późniejszych operacji."
   ]
  },
  {
   "cell_type": "code",
   "execution_count": null,
   "id": "a3bd9f79",
   "metadata": {},
   "outputs": [],
   "source": [
    "df.labels.transform(tuple)"
   ]
  },
  {
   "cell_type": "markdown",
   "id": "336d3998",
   "metadata": {},
   "source": [
    "Odcięcie raportów, których klasa występuje tylko raz, na potrzeby stratyfikacji"
   ]
  },
  {
   "cell_type": "code",
   "execution_count": null,
   "id": "a64ce2be",
   "metadata": {},
   "outputs": [],
   "source": [
    "# Ustalamy próg minimalnej liczby wystąpień dla stratyfikacji.\n",
    "# Próg 3 jest bezpieczny dla 3 podziałów (train/val/test).\n",
    "\n",
    "MIN_COUNT_FOR_STRATIFICATION = 3\n",
    "\n",
    "labels_counts = df.labels.value_counts()\n",
    "rare_labels = labels_counts[labels_counts < MIN_COUNT_FOR_STRATIFICATION].index\n",
    "\n",
    "# Podział na DataFrame, który możemy stratyfikować, i ten z rzadkimi klasami\n",
    "df_rare = df[df['labels'].isin(rare_labels)].copy()\n",
    "df_main = df[~df['labels'].isin(rare_labels)].copy()\n",
    "\n",
    "print(f\"Liczba próbek do stratyfikacji: {len(df_main)}\")\n",
    "print(f\"Liczba rzadkich próbek (trafią do zbioru treningowego): {len(df_rare)}\")"
   ]
  },
  {
   "cell_type": "markdown",
   "id": "610af468",
   "metadata": {},
   "source": [
    "#### **1.2. Stratyfikacja iteracyjna na głównym zbiorze.**"
   ]
  },
  {
   "cell_type": "code",
   "execution_count": null,
   "id": "c57e7451",
   "metadata": {},
   "outputs": [],
   "source": [
    "# Przygotowanie danych dla scikit-multilearn\n",
    "# Potrzebujemy tekstu jako macierzy X i etykiet jako macierzy binarnej Y\n",
    "\n",
    "X_main = df_main['text'].values.reshape(-1, 1)\n",
    "y_main = np.array(df_main['labels'].tolist())"
   ]
  },
  {
   "cell_type": "code",
   "execution_count": null,
   "id": "e7370ff4",
   "metadata": {},
   "outputs": [],
   "source": [
    "# Pierwszy podział: na zbiór treningowy (70%) i tymczasowy testowy (30%)\n",
    "X_train_main, y_train_main, X_temp, y_temp = iterative_train_test_split(\n",
    "    X_main, y_main, test_size = 0.3\n",
    ")\n",
    "\n",
    "# Drugi podział: dzielimy zbiór tymczasowy (30%) na pół\n",
    "X_val, y_val, X_test, y_test = iterative_train_test_split(\n",
    "    X_temp, y_temp, test_size = 0.5\n",
    ")"
   ]
  },
  {
   "cell_type": "markdown",
   "id": "bb9e2138",
   "metadata": {},
   "source": [
    "#### **1.3. Stworzenie DataFrame dla zbioru treningowego, testowego i walidacyjnego.**"
   ]
  },
  {
   "cell_type": "code",
   "execution_count": null,
   "id": "3f7e67fe",
   "metadata": {},
   "outputs": [],
   "source": [
    "train_stratified_df = pd.DataFrame({\n",
    "    'text': X_train_main.ravel(),\n",
    "    'labels': [list(label) for label in y_train_main]\n",
    "})\n",
    "\n",
    "val_df = pd.DataFrame({\n",
    "    'text': X_val.ravel(),\n",
    "    'labels': [list(label) for label in y_val]\n",
    "})\n",
    "\n",
    "test_df = pd.DataFrame({\n",
    "    'text': X_test.ravel(),\n",
    "    'labels': [list(label) for label in y_test]\n",
    "})\n",
    "\n",
    "# Dodajemy rzadkie próbki do zbioru treningowego\n",
    "train_df = pd.concat([train_stratified_df, df_rare], ignore_index=True)"
   ]
  },
  {
   "cell_type": "code",
   "execution_count": null,
   "id": "f77431d6",
   "metadata": {},
   "outputs": [],
   "source": [
    "print(f\"Zbiór treningowy: {len(train_df)} raportów\")\n",
    "print(f\"Zbiór walidacyjny: {len(val_df)} raportów\")\n",
    "print(f\"Zbiór testowy:    {len(test_df)} raportów\")"
   ]
  },
  {
   "cell_type": "markdown",
   "id": "888d7a46",
   "metadata": {},
   "source": [
    "#### **1.4. Wizualizacja podzielonych zbiorów.**"
   ]
  },
  {
   "cell_type": "code",
   "execution_count": null,
   "id": "b46d07f4",
   "metadata": {},
   "outputs": [],
   "source": [
    "datasets = {\n",
    "    \"Oryginalny\": y_main,\n",
    "    \"Treningowy\": y_train_main,\n",
    "    \"Walidacyjny\": y_val,\n",
    "    \"Testowy\": y_test\n",
    "}\n",
    "\n",
    "plot_data = []\n",
    "kryteria_names = [f\"Kryterium {i+1}\" for i in range(y_main.shape[1])]\n",
    "\n",
    "for name, labels_array in datasets.items():\n",
    "    # Obliczamy dystrybucję (odsetek '1') dla każdej etykiety\n",
    "    distribution = np.sum(labels_array, axis=0) / len(labels_array)\n",
    "    for i, percentage in enumerate(distribution):\n",
    "        plot_data.append({\n",
    "            \"Zbiór Danych\": name,\n",
    "            \"Kryterium\": kryteria_names[i],\n",
    "            \"Odsetek Wystąpień\": percentage\n",
    "        })\n",
    "\n",
    "dist_df = pd.DataFrame(plot_data)"
   ]
  },
  {
   "cell_type": "code",
   "execution_count": null,
   "id": "d8069554",
   "metadata": {},
   "outputs": [],
   "source": [
    "fig = px.bar(\n",
    "    dist_df,\n",
    "    x=\"Kryterium\",\n",
    "    y=\"Odsetek Wystąpień\",\n",
    "    color=\"Zbiór Danych\",\n",
    "    barmode=\"group\",\n",
    "    title=\"<b>Porównanie Dystrybucji Etykiet Pozytywnych w Zbiorach Danych</b>\",\n",
    "    labels={\n",
    "        \"Odsetek Wystąpień\": \"Odsetek Wystąpień Etykiety '1'\",\n",
    "        \"Kryterium\": \"Numer Kryterium ESG\"\n",
    "    },\n",
    "    text_auto='.1%',\n",
    ")\n",
    "\n",
    "fig.update_layout(\n",
    "    yaxis_tickformat=\".0%\",\n",
    "    legend_title_text='Zbiór Danych',\n",
    "    font=dict(family=\"Arial, sans-serif\", size=12),\n",
    "    template=\"plotly_white\",\n",
    "    uniformtext_minsize=8, \n",
    "    uniformtext_mode='hide'\n",
    ")\n",
    "\n",
    "fig.update_traces(textposition='outside')\n",
    "\n",
    "fig.show()"
   ]
  },
  {
   "cell_type": "markdown",
   "id": "39ba0bb4",
   "metadata": {},
   "source": [
    "#### **1.5. Zapis podzielonych zbiorów do plików .jsonl.**"
   ]
  },
  {
   "cell_type": "code",
   "execution_count": null,
   "id": "1365a17f",
   "metadata": {},
   "outputs": [],
   "source": [
    "output_dir = \"data/data_split\"\n",
    "os.makedirs(output_dir, exist_ok=True)\n",
    "\n",
    "datasets_to_save = {\n",
    "    \"train\": train_df,\n",
    "    \"validation\": val_df,\n",
    "    \"test\": test_df\n",
    "}\n",
    "\n",
    "for name, df in datasets_to_save.items():\n",
    "    file_path = os.path.join(output_dir, f\"{name}.jsonl\")\n",
    "    df.to_json(\n",
    "        file_path,\n",
    "        orient='records',\n",
    "        lines=True,\n",
    "        force_ascii=False,\n",
    "        index=False\n",
    "    )"
   ]
  }
 ],
 "metadata": {
  "kernelspec": {
   "display_name": "venv",
   "language": "python",
   "name": "python3"
  },
  "language_info": {
   "codemirror_mode": {
    "name": "ipython",
    "version": 3
   },
   "file_extension": ".py",
   "mimetype": "text/x-python",
   "name": "python",
   "nbconvert_exporter": "python",
   "pygments_lexer": "ipython3",
   "version": "3.12.3"
  }
 },
 "nbformat": 4,
 "nbformat_minor": 5
}
