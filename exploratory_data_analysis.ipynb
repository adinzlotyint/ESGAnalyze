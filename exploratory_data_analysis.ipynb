{
 "cells": [
  {
   "cell_type": "markdown",
   "id": "b06a2373",
   "metadata": {},
   "source": [
    "# **Ekploracyjna Analiza Danych (EDA)**"
   ]
  },
  {
   "cell_type": "markdown",
   "id": "afeefed6",
   "metadata": {},
   "source": [
    "### **Uwaga!**\n",
    "Ze względu na poufność danych, surowe raporty i adnotacje ekspertów nie są zawarte w tym repozytorium."
   ]
  },
  {
   "cell_type": "markdown",
   "id": "b1c97a61",
   "metadata": {},
   "source": [
    "### **Cel Analizy**\n",
    "1.  **Dystrybucja ocen ekspertów**\n",
    "2.  **Dystrybucja długości raportów**\n",
    "3.  **Powtarzalność wystąpień zestawów etykiet**"
   ]
  },
  {
   "cell_type": "markdown",
   "id": "77257c8f",
   "metadata": {},
   "source": [
    "#### **Import Bibliotek**"
   ]
  },
  {
   "cell_type": "code",
   "execution_count": 21,
   "id": "7b0d5db6",
   "metadata": {},
   "outputs": [],
   "source": [
    "import pandas as pd\n",
    "import plotly.express as px\n",
    "from collections import defaultdict"
   ]
  },
  {
   "cell_type": "code",
   "execution_count": 22,
   "id": "ad9bf907",
   "metadata": {},
   "outputs": [],
   "source": [
    "try:\n",
    "  with open('data/data.jsonl', 'r') as f:\n",
    "      df = pd.read_json(f, lines=True)\n",
    "except KeyError:\n",
    "  print(\"Plik z danymi nie został znaleziony. Proszę pamiętać, że nie jest on częścią tego repozytorium!\")"
   ]
  },
  {
   "cell_type": "markdown",
   "id": "b6f54d55",
   "metadata": {},
   "source": [
    "#### **Kryteria (etykiety)**\n",
    "* ##### **Kryterium 1** - Plan Transformacji Klimatycznej (ESRS E1-1)\n",
    "* ##### **Kryterium 2** - Identyfikacja i Zarządzanie Ryzykami (ESRS E1-2)\n",
    "* ##### **Kryterium 4** - Definicja Granic Konsolidacji (ESRS E1-6 Metodyka)\n",
    "* ##### **Kryterium 6** - Raportowanie Danych Historycznych (ESRS 1 + ESRS E1)\n",
    "* ##### **Kryterium 7** - Ujawnienie Wskaźników Intensywności (ESRS E1-6)\n",
    "* ##### **Kryterium 8** - Wiarygodność Zdefiniowanych Celów (ESRS E1-4)"
   ]
  },
  {
   "cell_type": "code",
   "execution_count": 23,
   "id": "91b0285a",
   "metadata": {},
   "outputs": [],
   "source": [
    "criterias = ['Kryterium 1', 'Kryterium 2', 'Kryterium 4', 'Kryterium 6', 'Kryterium 7', 'Kryterium 8']"
   ]
  },
  {
   "cell_type": "markdown",
   "id": "9121b3a2",
   "metadata": {},
   "source": [
    "## **Podstawowe informacje o danych**"
   ]
  },
  {
   "cell_type": "markdown",
   "id": "39860f14",
   "metadata": {},
   "source": [
    "##### **Język raportów:** Polski\n",
    "##### **Raporty dotyczą lat:** 2021-2023"
   ]
  },
  {
   "cell_type": "code",
   "execution_count": 24,
   "id": "b7acba58",
   "metadata": {},
   "outputs": [
    {
     "name": "stdout",
     "output_type": "stream",
     "text": [
      "Informacje o dataframe:\n",
      "Ilość raportów (linii w zbiorze danych): 393\n",
      "Ilość wymiarów: 2\n",
      "Kolumny: Index(['text', 'labels'], dtype='object')\n"
     ]
    }
   ],
   "source": [
    "print(f\"Informacje o dataframe:\")\n",
    "print(f\"Ilość raportów (linii w zbiorze danych): {len(df)}\")\n",
    "print(f\"Ilość wymiarów: {df.ndim}\")\n",
    "print(f\"Kolumny: {df.columns}\")"
   ]
  },
  {
   "cell_type": "markdown",
   "id": "08890bdb",
   "metadata": {},
   "source": [
    "## **Dystrybucja ocen ekspertów (etykiet)**"
   ]
  },
  {
   "cell_type": "code",
   "execution_count": 25,
   "id": "e367ac88",
   "metadata": {},
   "outputs": [],
   "source": [
    "results_list = []\n",
    "\n",
    "df_len = len(df)\n",
    "for i in range(len(df['labels'][0])):\n",
    "  count_ones = df[df['labels'].str[i] == 1]['labels'].count()\n",
    "  count_zeros = df_len - count_ones\n",
    "  row_data = {\n",
    "      \"Kryterium\": criterias[i],\n",
    "      \"1\": count_ones,\n",
    "      \"0\": count_zeros\n",
    "  }\n",
    "\n",
    "  results_list.append(row_data)\n",
    "\n",
    "data_labels = pd.DataFrame(results_list)"
   ]
  },
  {
   "cell_type": "code",
   "execution_count": 26,
   "id": "26d243a4",
   "metadata": {},
   "outputs": [
    {
     "data": {
      "application/vnd.plotly.v1+json": {
       "config": {
        "plotlyServerURL": "https://plot.ly"
       },
       "data": [
        {
         "hovertemplate": "variable=1<br>Kryterium=%{x}<br>value=%{y}<extra></extra>",
         "legendgroup": "1",
         "marker": {
          "color": "#636efa",
          "pattern": {
           "shape": ""
          }
         },
         "name": "1",
         "orientation": "v",
         "showlegend": true,
         "textposition": "auto",
         "texttemplate": "%{y}",
         "type": "bar",
         "x": [
          "Kryterium 1",
          "Kryterium 2",
          "Kryterium 4",
          "Kryterium 6",
          "Kryterium 7",
          "Kryterium 8"
         ],
         "xaxis": "x",
         "y": {
          "bdata": "6ABrAKgAYACZAEAA",
          "dtype": "i2"
         },
         "yaxis": "y"
        },
        {
         "hovertemplate": "variable=0<br>Kryterium=%{x}<br>value=%{y}<extra></extra>",
         "legendgroup": "0",
         "marker": {
          "color": "#EF553B",
          "pattern": {
           "shape": ""
          }
         },
         "name": "0",
         "orientation": "v",
         "showlegend": true,
         "textposition": "auto",
         "texttemplate": "%{y}",
         "type": "bar",
         "x": [
          "Kryterium 1",
          "Kryterium 2",
          "Kryterium 4",
          "Kryterium 6",
          "Kryterium 7",
          "Kryterium 8"
         ],
         "xaxis": "x",
         "y": {
          "bdata": "oQAeAeEAKQHwAEkB",
          "dtype": "i2"
         },
         "yaxis": "y"
        }
       ],
       "layout": {
        "barmode": "relative",
        "legend": {
         "title": {
          "text": "Etykiety"
         },
         "tracegroupgap": 0
        },
        "margin": {
         "t": 60
        },
        "plot_bgcolor": "white",
        "template": {
         "data": {
          "bar": [
           {
            "error_x": {
             "color": "#2a3f5f"
            },
            "error_y": {
             "color": "#2a3f5f"
            },
            "marker": {
             "line": {
              "color": "#E5ECF6",
              "width": 0.5
             },
             "pattern": {
              "fillmode": "overlay",
              "size": 10,
              "solidity": 0.2
             }
            },
            "type": "bar"
           }
          ],
          "barpolar": [
           {
            "marker": {
             "line": {
              "color": "#E5ECF6",
              "width": 0.5
             },
             "pattern": {
              "fillmode": "overlay",
              "size": 10,
              "solidity": 0.2
             }
            },
            "type": "barpolar"
           }
          ],
          "carpet": [
           {
            "aaxis": {
             "endlinecolor": "#2a3f5f",
             "gridcolor": "white",
             "linecolor": "white",
             "minorgridcolor": "white",
             "startlinecolor": "#2a3f5f"
            },
            "baxis": {
             "endlinecolor": "#2a3f5f",
             "gridcolor": "white",
             "linecolor": "white",
             "minorgridcolor": "white",
             "startlinecolor": "#2a3f5f"
            },
            "type": "carpet"
           }
          ],
          "choropleth": [
           {
            "colorbar": {
             "outlinewidth": 0,
             "ticks": ""
            },
            "type": "choropleth"
           }
          ],
          "contour": [
           {
            "colorbar": {
             "outlinewidth": 0,
             "ticks": ""
            },
            "colorscale": [
             [
              0,
              "#0d0887"
             ],
             [
              0.1111111111111111,
              "#46039f"
             ],
             [
              0.2222222222222222,
              "#7201a8"
             ],
             [
              0.3333333333333333,
              "#9c179e"
             ],
             [
              0.4444444444444444,
              "#bd3786"
             ],
             [
              0.5555555555555556,
              "#d8576b"
             ],
             [
              0.6666666666666666,
              "#ed7953"
             ],
             [
              0.7777777777777778,
              "#fb9f3a"
             ],
             [
              0.8888888888888888,
              "#fdca26"
             ],
             [
              1,
              "#f0f921"
             ]
            ],
            "type": "contour"
           }
          ],
          "contourcarpet": [
           {
            "colorbar": {
             "outlinewidth": 0,
             "ticks": ""
            },
            "type": "contourcarpet"
           }
          ],
          "heatmap": [
           {
            "colorbar": {
             "outlinewidth": 0,
             "ticks": ""
            },
            "colorscale": [
             [
              0,
              "#0d0887"
             ],
             [
              0.1111111111111111,
              "#46039f"
             ],
             [
              0.2222222222222222,
              "#7201a8"
             ],
             [
              0.3333333333333333,
              "#9c179e"
             ],
             [
              0.4444444444444444,
              "#bd3786"
             ],
             [
              0.5555555555555556,
              "#d8576b"
             ],
             [
              0.6666666666666666,
              "#ed7953"
             ],
             [
              0.7777777777777778,
              "#fb9f3a"
             ],
             [
              0.8888888888888888,
              "#fdca26"
             ],
             [
              1,
              "#f0f921"
             ]
            ],
            "type": "heatmap"
           }
          ],
          "histogram": [
           {
            "marker": {
             "pattern": {
              "fillmode": "overlay",
              "size": 10,
              "solidity": 0.2
             }
            },
            "type": "histogram"
           }
          ],
          "histogram2d": [
           {
            "colorbar": {
             "outlinewidth": 0,
             "ticks": ""
            },
            "colorscale": [
             [
              0,
              "#0d0887"
             ],
             [
              0.1111111111111111,
              "#46039f"
             ],
             [
              0.2222222222222222,
              "#7201a8"
             ],
             [
              0.3333333333333333,
              "#9c179e"
             ],
             [
              0.4444444444444444,
              "#bd3786"
             ],
             [
              0.5555555555555556,
              "#d8576b"
             ],
             [
              0.6666666666666666,
              "#ed7953"
             ],
             [
              0.7777777777777778,
              "#fb9f3a"
             ],
             [
              0.8888888888888888,
              "#fdca26"
             ],
             [
              1,
              "#f0f921"
             ]
            ],
            "type": "histogram2d"
           }
          ],
          "histogram2dcontour": [
           {
            "colorbar": {
             "outlinewidth": 0,
             "ticks": ""
            },
            "colorscale": [
             [
              0,
              "#0d0887"
             ],
             [
              0.1111111111111111,
              "#46039f"
             ],
             [
              0.2222222222222222,
              "#7201a8"
             ],
             [
              0.3333333333333333,
              "#9c179e"
             ],
             [
              0.4444444444444444,
              "#bd3786"
             ],
             [
              0.5555555555555556,
              "#d8576b"
             ],
             [
              0.6666666666666666,
              "#ed7953"
             ],
             [
              0.7777777777777778,
              "#fb9f3a"
             ],
             [
              0.8888888888888888,
              "#fdca26"
             ],
             [
              1,
              "#f0f921"
             ]
            ],
            "type": "histogram2dcontour"
           }
          ],
          "mesh3d": [
           {
            "colorbar": {
             "outlinewidth": 0,
             "ticks": ""
            },
            "type": "mesh3d"
           }
          ],
          "parcoords": [
           {
            "line": {
             "colorbar": {
              "outlinewidth": 0,
              "ticks": ""
             }
            },
            "type": "parcoords"
           }
          ],
          "pie": [
           {
            "automargin": true,
            "type": "pie"
           }
          ],
          "scatter": [
           {
            "fillpattern": {
             "fillmode": "overlay",
             "size": 10,
             "solidity": 0.2
            },
            "type": "scatter"
           }
          ],
          "scatter3d": [
           {
            "line": {
             "colorbar": {
              "outlinewidth": 0,
              "ticks": ""
             }
            },
            "marker": {
             "colorbar": {
              "outlinewidth": 0,
              "ticks": ""
             }
            },
            "type": "scatter3d"
           }
          ],
          "scattercarpet": [
           {
            "marker": {
             "colorbar": {
              "outlinewidth": 0,
              "ticks": ""
             }
            },
            "type": "scattercarpet"
           }
          ],
          "scattergeo": [
           {
            "marker": {
             "colorbar": {
              "outlinewidth": 0,
              "ticks": ""
             }
            },
            "type": "scattergeo"
           }
          ],
          "scattergl": [
           {
            "marker": {
             "colorbar": {
              "outlinewidth": 0,
              "ticks": ""
             }
            },
            "type": "scattergl"
           }
          ],
          "scattermap": [
           {
            "marker": {
             "colorbar": {
              "outlinewidth": 0,
              "ticks": ""
             }
            },
            "type": "scattermap"
           }
          ],
          "scattermapbox": [
           {
            "marker": {
             "colorbar": {
              "outlinewidth": 0,
              "ticks": ""
             }
            },
            "type": "scattermapbox"
           }
          ],
          "scatterpolar": [
           {
            "marker": {
             "colorbar": {
              "outlinewidth": 0,
              "ticks": ""
             }
            },
            "type": "scatterpolar"
           }
          ],
          "scatterpolargl": [
           {
            "marker": {
             "colorbar": {
              "outlinewidth": 0,
              "ticks": ""
             }
            },
            "type": "scatterpolargl"
           }
          ],
          "scatterternary": [
           {
            "marker": {
             "colorbar": {
              "outlinewidth": 0,
              "ticks": ""
             }
            },
            "type": "scatterternary"
           }
          ],
          "surface": [
           {
            "colorbar": {
             "outlinewidth": 0,
             "ticks": ""
            },
            "colorscale": [
             [
              0,
              "#0d0887"
             ],
             [
              0.1111111111111111,
              "#46039f"
             ],
             [
              0.2222222222222222,
              "#7201a8"
             ],
             [
              0.3333333333333333,
              "#9c179e"
             ],
             [
              0.4444444444444444,
              "#bd3786"
             ],
             [
              0.5555555555555556,
              "#d8576b"
             ],
             [
              0.6666666666666666,
              "#ed7953"
             ],
             [
              0.7777777777777778,
              "#fb9f3a"
             ],
             [
              0.8888888888888888,
              "#fdca26"
             ],
             [
              1,
              "#f0f921"
             ]
            ],
            "type": "surface"
           }
          ],
          "table": [
           {
            "cells": {
             "fill": {
              "color": "#EBF0F8"
             },
             "line": {
              "color": "white"
             }
            },
            "header": {
             "fill": {
              "color": "#C8D4E3"
             },
             "line": {
              "color": "white"
             }
            },
            "type": "table"
           }
          ]
         },
         "layout": {
          "annotationdefaults": {
           "arrowcolor": "#2a3f5f",
           "arrowhead": 0,
           "arrowwidth": 1
          },
          "autotypenumbers": "strict",
          "coloraxis": {
           "colorbar": {
            "outlinewidth": 0,
            "ticks": ""
           }
          },
          "colorscale": {
           "diverging": [
            [
             0,
             "#8e0152"
            ],
            [
             0.1,
             "#c51b7d"
            ],
            [
             0.2,
             "#de77ae"
            ],
            [
             0.3,
             "#f1b6da"
            ],
            [
             0.4,
             "#fde0ef"
            ],
            [
             0.5,
             "#f7f7f7"
            ],
            [
             0.6,
             "#e6f5d0"
            ],
            [
             0.7,
             "#b8e186"
            ],
            [
             0.8,
             "#7fbc41"
            ],
            [
             0.9,
             "#4d9221"
            ],
            [
             1,
             "#276419"
            ]
           ],
           "sequential": [
            [
             0,
             "#0d0887"
            ],
            [
             0.1111111111111111,
             "#46039f"
            ],
            [
             0.2222222222222222,
             "#7201a8"
            ],
            [
             0.3333333333333333,
             "#9c179e"
            ],
            [
             0.4444444444444444,
             "#bd3786"
            ],
            [
             0.5555555555555556,
             "#d8576b"
            ],
            [
             0.6666666666666666,
             "#ed7953"
            ],
            [
             0.7777777777777778,
             "#fb9f3a"
            ],
            [
             0.8888888888888888,
             "#fdca26"
            ],
            [
             1,
             "#f0f921"
            ]
           ],
           "sequentialminus": [
            [
             0,
             "#0d0887"
            ],
            [
             0.1111111111111111,
             "#46039f"
            ],
            [
             0.2222222222222222,
             "#7201a8"
            ],
            [
             0.3333333333333333,
             "#9c179e"
            ],
            [
             0.4444444444444444,
             "#bd3786"
            ],
            [
             0.5555555555555556,
             "#d8576b"
            ],
            [
             0.6666666666666666,
             "#ed7953"
            ],
            [
             0.7777777777777778,
             "#fb9f3a"
            ],
            [
             0.8888888888888888,
             "#fdca26"
            ],
            [
             1,
             "#f0f921"
            ]
           ]
          },
          "colorway": [
           "#636efa",
           "#EF553B",
           "#00cc96",
           "#ab63fa",
           "#FFA15A",
           "#19d3f3",
           "#FF6692",
           "#B6E880",
           "#FF97FF",
           "#FECB52"
          ],
          "font": {
           "color": "#2a3f5f"
          },
          "geo": {
           "bgcolor": "white",
           "lakecolor": "white",
           "landcolor": "#E5ECF6",
           "showlakes": true,
           "showland": true,
           "subunitcolor": "white"
          },
          "hoverlabel": {
           "align": "left"
          },
          "hovermode": "closest",
          "mapbox": {
           "style": "light"
          },
          "paper_bgcolor": "white",
          "plot_bgcolor": "#E5ECF6",
          "polar": {
           "angularaxis": {
            "gridcolor": "white",
            "linecolor": "white",
            "ticks": ""
           },
           "bgcolor": "#E5ECF6",
           "radialaxis": {
            "gridcolor": "white",
            "linecolor": "white",
            "ticks": ""
           }
          },
          "scene": {
           "xaxis": {
            "backgroundcolor": "#E5ECF6",
            "gridcolor": "white",
            "gridwidth": 2,
            "linecolor": "white",
            "showbackground": true,
            "ticks": "",
            "zerolinecolor": "white"
           },
           "yaxis": {
            "backgroundcolor": "#E5ECF6",
            "gridcolor": "white",
            "gridwidth": 2,
            "linecolor": "white",
            "showbackground": true,
            "ticks": "",
            "zerolinecolor": "white"
           },
           "zaxis": {
            "backgroundcolor": "#E5ECF6",
            "gridcolor": "white",
            "gridwidth": 2,
            "linecolor": "white",
            "showbackground": true,
            "ticks": "",
            "zerolinecolor": "white"
           }
          },
          "shapedefaults": {
           "line": {
            "color": "#2a3f5f"
           }
          },
          "ternary": {
           "aaxis": {
            "gridcolor": "white",
            "linecolor": "white",
            "ticks": ""
           },
           "baxis": {
            "gridcolor": "white",
            "linecolor": "white",
            "ticks": ""
           },
           "bgcolor": "#E5ECF6",
           "caxis": {
            "gridcolor": "white",
            "linecolor": "white",
            "ticks": ""
           }
          },
          "title": {
           "x": 0.05
          },
          "xaxis": {
           "automargin": true,
           "gridcolor": "white",
           "linecolor": "white",
           "ticks": "",
           "title": {
            "standoff": 15
           },
           "zerolinecolor": "white",
           "zerolinewidth": 2
          },
          "yaxis": {
           "automargin": true,
           "gridcolor": "white",
           "linecolor": "white",
           "ticks": "",
           "title": {
            "standoff": 15
           },
           "zerolinecolor": "white",
           "zerolinewidth": 2
          }
         }
        },
        "xaxis": {
         "anchor": "y",
         "domain": [
          0,
          1
         ],
         "title": {
          "text": "Kryteria"
         }
        },
        "yaxis": {
         "anchor": "x",
         "domain": [
          0,
          1
         ],
         "title": {
          "text": ""
         }
        }
       }
      }
     },
     "metadata": {},
     "output_type": "display_data"
    }
   ],
   "source": [
    "fig = px.bar(\n",
    "  data_labels, \n",
    "  x=data_labels['Kryterium'], \n",
    "  y=[data_labels['1'], data_labels['0']],\n",
    "  text_auto=True\n",
    ")\n",
    "\n",
    "fig.update_layout(\n",
    "  xaxis_title=\"Kryteria\",\n",
    "  yaxis_title=\"\",\n",
    "  plot_bgcolor='white',\n",
    "  legend_title_text = 'Etykiety'\n",
    ")\n",
    "fig.show()"
   ]
  },
  {
   "cell_type": "markdown",
   "id": "9066007d",
   "metadata": {},
   "source": [
    "### **Dystrybucja ocen ekspertów (etykiet) - wnioski:**\n",
    "\n",
    "**Analiza**:\n",
    "Na podstawie przeprowadzonej analizy, można stwierdzić że zbiór jest niezbalansowany pod kątem występowania klas, głównie dla kryteriów 2, 6 i 8, z przewagą klasy negatywnej (0).\n",
    "\n",
    "**Wnioski**:\n",
    "\n",
    "Podczas fine-tuningu modelu wymagane będzie ustawienie niestandardowych progów dla ewaluacji wyników.\n",
    "\n",
    "Uzasadnione również będzie zastosowanie bardziej agresywnych technik optymalizacji funkcji straty np. Focal Loss."
   ]
  },
  {
   "cell_type": "markdown",
   "id": "a1c4757c",
   "metadata": {},
   "source": [
    "## **Dystrybucja długości raportów**"
   ]
  },
  {
   "cell_type": "code",
   "execution_count": 27,
   "id": "77ad8fb3",
   "metadata": {},
   "outputs": [],
   "source": [
    "results_list = []\n",
    "for i in range(len(df['text'])):\n",
    "  results_list.append(len(df['text'][i]))"
   ]
  },
  {
   "cell_type": "code",
   "execution_count": 28,
   "id": "7d720dba",
   "metadata": {},
   "outputs": [
    {
     "data": {
      "application/vnd.plotly.v1+json": {
       "config": {
        "plotlyServerURL": "https://plot.ly"
       },
       "data": [
        {
         "bingroup": "x",
         "hovertemplate": "x=%{x}<br>count=%{y}<extra></extra>",
         "legendgroup": "",
         "marker": {
          "color": "#636efa",
          "pattern": {
           "shape": ""
          }
         },
         "name": "",
         "nbinsx": 50,
         "orientation": "v",
         "showlegend": false,
         "texttemplate": "%{value}",
         "type": "histogram",
         "x": {
          "bdata": "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",
          "dtype": "i4"
         },
         "xaxis": "x",
         "yaxis": "y"
        }
       ],
       "layout": {
        "bargap": 0.1,
        "barmode": "relative",
        "legend": {
         "tracegroupgap": 0
        },
        "margin": {
         "t": 60
        },
        "template": {
         "data": {
          "bar": [
           {
            "error_x": {
             "color": "#2a3f5f"
            },
            "error_y": {
             "color": "#2a3f5f"
            },
            "marker": {
             "line": {
              "color": "#E5ECF6",
              "width": 0.5
             },
             "pattern": {
              "fillmode": "overlay",
              "size": 10,
              "solidity": 0.2
             }
            },
            "type": "bar"
           }
          ],
          "barpolar": [
           {
            "marker": {
             "line": {
              "color": "#E5ECF6",
              "width": 0.5
             },
             "pattern": {
              "fillmode": "overlay",
              "size": 10,
              "solidity": 0.2
             }
            },
            "type": "barpolar"
           }
          ],
          "carpet": [
           {
            "aaxis": {
             "endlinecolor": "#2a3f5f",
             "gridcolor": "white",
             "linecolor": "white",
             "minorgridcolor": "white",
             "startlinecolor": "#2a3f5f"
            },
            "baxis": {
             "endlinecolor": "#2a3f5f",
             "gridcolor": "white",
             "linecolor": "white",
             "minorgridcolor": "white",
             "startlinecolor": "#2a3f5f"
            },
            "type": "carpet"
           }
          ],
          "choropleth": [
           {
            "colorbar": {
             "outlinewidth": 0,
             "ticks": ""
            },
            "type": "choropleth"
           }
          ],
          "contour": [
           {
            "colorbar": {
             "outlinewidth": 0,
             "ticks": ""
            },
            "colorscale": [
             [
              0,
              "#0d0887"
             ],
             [
              0.1111111111111111,
              "#46039f"
             ],
             [
              0.2222222222222222,
              "#7201a8"
             ],
             [
              0.3333333333333333,
              "#9c179e"
             ],
             [
              0.4444444444444444,
              "#bd3786"
             ],
             [
              0.5555555555555556,
              "#d8576b"
             ],
             [
              0.6666666666666666,
              "#ed7953"
             ],
             [
              0.7777777777777778,
              "#fb9f3a"
             ],
             [
              0.8888888888888888,
              "#fdca26"
             ],
             [
              1,
              "#f0f921"
             ]
            ],
            "type": "contour"
           }
          ],
          "contourcarpet": [
           {
            "colorbar": {
             "outlinewidth": 0,
             "ticks": ""
            },
            "type": "contourcarpet"
           }
          ],
          "heatmap": [
           {
            "colorbar": {
             "outlinewidth": 0,
             "ticks": ""
            },
            "colorscale": [
             [
              0,
              "#0d0887"
             ],
             [
              0.1111111111111111,
              "#46039f"
             ],
             [
              0.2222222222222222,
              "#7201a8"
             ],
             [
              0.3333333333333333,
              "#9c179e"
             ],
             [
              0.4444444444444444,
              "#bd3786"
             ],
             [
              0.5555555555555556,
              "#d8576b"
             ],
             [
              0.6666666666666666,
              "#ed7953"
             ],
             [
              0.7777777777777778,
              "#fb9f3a"
             ],
             [
              0.8888888888888888,
              "#fdca26"
             ],
             [
              1,
              "#f0f921"
             ]
            ],
            "type": "heatmap"
           }
          ],
          "histogram": [
           {
            "marker": {
             "pattern": {
              "fillmode": "overlay",
              "size": 10,
              "solidity": 0.2
             }
            },
            "type": "histogram"
           }
          ],
          "histogram2d": [
           {
            "colorbar": {
             "outlinewidth": 0,
             "ticks": ""
            },
            "colorscale": [
             [
              0,
              "#0d0887"
             ],
             [
              0.1111111111111111,
              "#46039f"
             ],
             [
              0.2222222222222222,
              "#7201a8"
             ],
             [
              0.3333333333333333,
              "#9c179e"
             ],
             [
              0.4444444444444444,
              "#bd3786"
             ],
             [
              0.5555555555555556,
              "#d8576b"
             ],
             [
              0.6666666666666666,
              "#ed7953"
             ],
             [
              0.7777777777777778,
              "#fb9f3a"
             ],
             [
              0.8888888888888888,
              "#fdca26"
             ],
             [
              1,
              "#f0f921"
             ]
            ],
            "type": "histogram2d"
           }
          ],
          "histogram2dcontour": [
           {
            "colorbar": {
             "outlinewidth": 0,
             "ticks": ""
            },
            "colorscale": [
             [
              0,
              "#0d0887"
             ],
             [
              0.1111111111111111,
              "#46039f"
             ],
             [
              0.2222222222222222,
              "#7201a8"
             ],
             [
              0.3333333333333333,
              "#9c179e"
             ],
             [
              0.4444444444444444,
              "#bd3786"
             ],
             [
              0.5555555555555556,
              "#d8576b"
             ],
             [
              0.6666666666666666,
              "#ed7953"
             ],
             [
              0.7777777777777778,
              "#fb9f3a"
             ],
             [
              0.8888888888888888,
              "#fdca26"
             ],
             [
              1,
              "#f0f921"
             ]
            ],
            "type": "histogram2dcontour"
           }
          ],
          "mesh3d": [
           {
            "colorbar": {
             "outlinewidth": 0,
             "ticks": ""
            },
            "type": "mesh3d"
           }
          ],
          "parcoords": [
           {
            "line": {
             "colorbar": {
              "outlinewidth": 0,
              "ticks": ""
             }
            },
            "type": "parcoords"
           }
          ],
          "pie": [
           {
            "automargin": true,
            "type": "pie"
           }
          ],
          "scatter": [
           {
            "fillpattern": {
             "fillmode": "overlay",
             "size": 10,
             "solidity": 0.2
            },
            "type": "scatter"
           }
          ],
          "scatter3d": [
           {
            "line": {
             "colorbar": {
              "outlinewidth": 0,
              "ticks": ""
             }
            },
            "marker": {
             "colorbar": {
              "outlinewidth": 0,
              "ticks": ""
             }
            },
            "type": "scatter3d"
           }
          ],
          "scattercarpet": [
           {
            "marker": {
             "colorbar": {
              "outlinewidth": 0,
              "ticks": ""
             }
            },
            "type": "scattercarpet"
           }
          ],
          "scattergeo": [
           {
            "marker": {
             "colorbar": {
              "outlinewidth": 0,
              "ticks": ""
             }
            },
            "type": "scattergeo"
           }
          ],
          "scattergl": [
           {
            "marker": {
             "colorbar": {
              "outlinewidth": 0,
              "ticks": ""
             }
            },
            "type": "scattergl"
           }
          ],
          "scattermap": [
           {
            "marker": {
             "colorbar": {
              "outlinewidth": 0,
              "ticks": ""
             }
            },
            "type": "scattermap"
           }
          ],
          "scattermapbox": [
           {
            "marker": {
             "colorbar": {
              "outlinewidth": 0,
              "ticks": ""
             }
            },
            "type": "scattermapbox"
           }
          ],
          "scatterpolar": [
           {
            "marker": {
             "colorbar": {
              "outlinewidth": 0,
              "ticks": ""
             }
            },
            "type": "scatterpolar"
           }
          ],
          "scatterpolargl": [
           {
            "marker": {
             "colorbar": {
              "outlinewidth": 0,
              "ticks": ""
             }
            },
            "type": "scatterpolargl"
           }
          ],
          "scatterternary": [
           {
            "marker": {
             "colorbar": {
              "outlinewidth": 0,
              "ticks": ""
             }
            },
            "type": "scatterternary"
           }
          ],
          "surface": [
           {
            "colorbar": {
             "outlinewidth": 0,
             "ticks": ""
            },
            "colorscale": [
             [
              0,
              "#0d0887"
             ],
             [
              0.1111111111111111,
              "#46039f"
             ],
             [
              0.2222222222222222,
              "#7201a8"
             ],
             [
              0.3333333333333333,
              "#9c179e"
             ],
             [
              0.4444444444444444,
              "#bd3786"
             ],
             [
              0.5555555555555556,
              "#d8576b"
             ],
             [
              0.6666666666666666,
              "#ed7953"
             ],
             [
              0.7777777777777778,
              "#fb9f3a"
             ],
             [
              0.8888888888888888,
              "#fdca26"
             ],
             [
              1,
              "#f0f921"
             ]
            ],
            "type": "surface"
           }
          ],
          "table": [
           {
            "cells": {
             "fill": {
              "color": "#EBF0F8"
             },
             "line": {
              "color": "white"
             }
            },
            "header": {
             "fill": {
              "color": "#C8D4E3"
             },
             "line": {
              "color": "white"
             }
            },
            "type": "table"
           }
          ]
         },
         "layout": {
          "annotationdefaults": {
           "arrowcolor": "#2a3f5f",
           "arrowhead": 0,
           "arrowwidth": 1
          },
          "autotypenumbers": "strict",
          "coloraxis": {
           "colorbar": {
            "outlinewidth": 0,
            "ticks": ""
           }
          },
          "colorscale": {
           "diverging": [
            [
             0,
             "#8e0152"
            ],
            [
             0.1,
             "#c51b7d"
            ],
            [
             0.2,
             "#de77ae"
            ],
            [
             0.3,
             "#f1b6da"
            ],
            [
             0.4,
             "#fde0ef"
            ],
            [
             0.5,
             "#f7f7f7"
            ],
            [
             0.6,
             "#e6f5d0"
            ],
            [
             0.7,
             "#b8e186"
            ],
            [
             0.8,
             "#7fbc41"
            ],
            [
             0.9,
             "#4d9221"
            ],
            [
             1,
             "#276419"
            ]
           ],
           "sequential": [
            [
             0,
             "#0d0887"
            ],
            [
             0.1111111111111111,
             "#46039f"
            ],
            [
             0.2222222222222222,
             "#7201a8"
            ],
            [
             0.3333333333333333,
             "#9c179e"
            ],
            [
             0.4444444444444444,
             "#bd3786"
            ],
            [
             0.5555555555555556,
             "#d8576b"
            ],
            [
             0.6666666666666666,
             "#ed7953"
            ],
            [
             0.7777777777777778,
             "#fb9f3a"
            ],
            [
             0.8888888888888888,
             "#fdca26"
            ],
            [
             1,
             "#f0f921"
            ]
           ],
           "sequentialminus": [
            [
             0,
             "#0d0887"
            ],
            [
             0.1111111111111111,
             "#46039f"
            ],
            [
             0.2222222222222222,
             "#7201a8"
            ],
            [
             0.3333333333333333,
             "#9c179e"
            ],
            [
             0.4444444444444444,
             "#bd3786"
            ],
            [
             0.5555555555555556,
             "#d8576b"
            ],
            [
             0.6666666666666666,
             "#ed7953"
            ],
            [
             0.7777777777777778,
             "#fb9f3a"
            ],
            [
             0.8888888888888888,
             "#fdca26"
            ],
            [
             1,
             "#f0f921"
            ]
           ]
          },
          "colorway": [
           "#636efa",
           "#EF553B",
           "#00cc96",
           "#ab63fa",
           "#FFA15A",
           "#19d3f3",
           "#FF6692",
           "#B6E880",
           "#FF97FF",
           "#FECB52"
          ],
          "font": {
           "color": "#2a3f5f"
          },
          "geo": {
           "bgcolor": "white",
           "lakecolor": "white",
           "landcolor": "#E5ECF6",
           "showlakes": true,
           "showland": true,
           "subunitcolor": "white"
          },
          "hoverlabel": {
           "align": "left"
          },
          "hovermode": "closest",
          "mapbox": {
           "style": "light"
          },
          "paper_bgcolor": "white",
          "plot_bgcolor": "#E5ECF6",
          "polar": {
           "angularaxis": {
            "gridcolor": "white",
            "linecolor": "white",
            "ticks": ""
           },
           "bgcolor": "#E5ECF6",
           "radialaxis": {
            "gridcolor": "white",
            "linecolor": "white",
            "ticks": ""
           }
          },
          "scene": {
           "xaxis": {
            "backgroundcolor": "#E5ECF6",
            "gridcolor": "white",
            "gridwidth": 2,
            "linecolor": "white",
            "showbackground": true,
            "ticks": "",
            "zerolinecolor": "white"
           },
           "yaxis": {
            "backgroundcolor": "#E5ECF6",
            "gridcolor": "white",
            "gridwidth": 2,
            "linecolor": "white",
            "showbackground": true,
            "ticks": "",
            "zerolinecolor": "white"
           },
           "zaxis": {
            "backgroundcolor": "#E5ECF6",
            "gridcolor": "white",
            "gridwidth": 2,
            "linecolor": "white",
            "showbackground": true,
            "ticks": "",
            "zerolinecolor": "white"
           }
          },
          "shapedefaults": {
           "line": {
            "color": "#2a3f5f"
           }
          },
          "ternary": {
           "aaxis": {
            "gridcolor": "white",
            "linecolor": "white",
            "ticks": ""
           },
           "baxis": {
            "gridcolor": "white",
            "linecolor": "white",
            "ticks": ""
           },
           "bgcolor": "#E5ECF6",
           "caxis": {
            "gridcolor": "white",
            "linecolor": "white",
            "ticks": ""
           }
          },
          "title": {
           "x": 0.05
          },
          "xaxis": {
           "automargin": true,
           "gridcolor": "white",
           "linecolor": "white",
           "ticks": "",
           "title": {
            "standoff": 15
           },
           "zerolinecolor": "white",
           "zerolinewidth": 2
          },
          "yaxis": {
           "automargin": true,
           "gridcolor": "white",
           "linecolor": "white",
           "ticks": "",
           "title": {
            "standoff": 15
           },
           "zerolinecolor": "white",
           "zerolinewidth": 2
          }
         }
        },
        "xaxis": {
         "anchor": "y",
         "domain": [
          0,
          1
         ],
         "title": {
          "text": "Ilość znaków"
         }
        },
        "yaxis": {
         "anchor": "x",
         "domain": [
          0,
          1
         ],
         "title": {
          "text": "Ilość raportów"
         }
        }
       }
      }
     },
     "metadata": {},
     "output_type": "display_data"
    }
   ],
   "source": [
    "fig = px.histogram(\n",
    "  results_list, \n",
    "  x=results_list,\n",
    "  text_auto=True,\n",
    "  nbins=50\n",
    ")\n",
    "\n",
    "fig.update_layout(\n",
    "  yaxis_title = \"Ilość raportów\",\n",
    "  xaxis_title = \"Ilość znaków\",\n",
    "  bargap=0.1\n",
    ")\n",
    "\n",
    "fig.show()"
   ]
  },
  {
   "cell_type": "markdown",
   "id": "e1ef6b17",
   "metadata": {},
   "source": [
    "### **Dystrybucja długości raportów - wnioski:**\n",
    "\n",
    "**Analiza**: Dystrybucja jest prawostronnie skośna, z większością raportów o długości od 0 do 400 000 znaków. Długi ogon rozkładu potwierdza obecność kilku bardzo obszernych raportów.\n",
    "\n",
    "**Wnioski**: Dla procesu treningu modelu oznaczać to będzie konieczność podzielenia raportów na fragmenty oraz zastosowania technik przesuwnego okna podczas tokenizacji. Końcowo będzie to wymagało zastosowania odpowiedniej techniki agregacji wyników."
   ]
  },
  {
   "cell_type": "markdown",
   "id": "d62b2795",
   "metadata": {},
   "source": [
    "## **Powtarzalność wystąpień zestawów etykiet**"
   ]
  },
  {
   "cell_type": "code",
   "execution_count": 29,
   "id": "2655d4de",
   "metadata": {},
   "outputs": [
    {
     "name": "stdout",
     "output_type": "stream",
     "text": [
      "--- Top 5 najczęstszych zestawów etykiet ---\n",
      "labels\n",
      "(0, 0, 0, 0, 0, 0)    109\n",
      "(1, 0, 0, 0, 0, 0)     47\n",
      "(1, 1, 1, 1, 1, 0)     19\n",
      "(1, 0, 1, 0, 1, 0)     18\n",
      "(1, 1, 1, 1, 1, 1)     17\n",
      "Name: count, dtype: int64\n",
      "\n",
      "--- Bottom 5 najrzadszych zestawów etykiet ---\n",
      "labels\n",
      "(1, 1, 0, 0, 0, 1)    2\n",
      "(1, 1, 0, 1, 1, 1)    2\n",
      "(1, 1, 1, 1, 0, 0)    1\n",
      "(1, 0, 0, 1, 0, 1)    1\n",
      "(0, 0, 0, 0, 0, 1)    1\n",
      "Name: count, dtype: int64\n"
     ]
    }
   ],
   "source": [
    "y = df['labels'].transform(tuple)\n",
    "uniquesDict = defaultdict(int)\n",
    "\n",
    "value_counts = y.value_counts()\n",
    "top_5_series = value_counts.head(5)\n",
    "bottom_5_series = value_counts.tail(5)\n",
    "\n",
    "print(\"--- Top 5 najczęstszych zestawów etykiet ---\")\n",
    "print(top_5_series)\n",
    "\n",
    "print(\"\\n--- Bottom 5 najrzadszych zestawów etykiet ---\")\n",
    "print(bottom_5_series)"
   ]
  },
  {
   "cell_type": "markdown",
   "id": "a98895f3",
   "metadata": {},
   "source": [
    "### **Powtarzalność wystąpień etykiet - wnioski:**\n",
    "\n",
    "**Analiza**: Dominującym przypadkiem (109 wystąpień) jest zestaw (0, 0, 0, 0, 0, 0). Z drugiej strony spektrum znajduje się wiele kombinacji etykiet, które występują zaledwie raz lub dwa razy.\n",
    "\n",
    "**Wnioski**:\n",
    "\n",
    "W początkowym stadium prac należy unikać techniki undersamplingu. Ze względu na unikalny charakter każdego z raportów, usuwanie przykładów skrajnie negatywnych prowadziłoby do utraty cennego kontekstu.\n",
    "\n",
    "Zarówno analiza dystrybucji pojedynczych etykiet, jak i całych zestawów, wskazuje na problem silnego niezbalansowania danych. Kluczowym elementem strategii powinno być zastosowanie zmodyfikowanej funkcji kosztu."
   ]
  }
 ],
 "metadata": {
  "kernelspec": {
   "display_name": "venv",
   "language": "python",
   "name": "python3"
  },
  "language_info": {
   "codemirror_mode": {
    "name": "ipython",
    "version": 3
   },
   "file_extension": ".py",
   "mimetype": "text/x-python",
   "name": "python",
   "nbconvert_exporter": "python",
   "pygments_lexer": "ipython3",
   "version": "3.12.3"
  }
 },
 "nbformat": 4,
 "nbformat_minor": 5
}
