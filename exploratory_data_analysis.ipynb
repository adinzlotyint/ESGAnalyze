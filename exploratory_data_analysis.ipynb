{
 "cells": [
  {
   "cell_type": "markdown",
   "id": "b06a2373",
   "metadata": {},
   "source": [
    "# **Ekploracyjna Analiza Danych (EDA)**"
   ]
  },
  {
   "cell_type": "markdown",
   "id": "b1c97a61",
   "metadata": {},
   "source": [
    "### **Cel Analizy**\n",
    "1.  **Dystrybucja ocen ekspertów:** Analiza poziomu zbalansowania etykiet w zbiorze danych.\n",
    "1.  **Dystrybucja długości raportów:** Analiza ilości znaków per dokument."
   ]
  },
  {
   "cell_type": "markdown",
   "id": "77257c8f",
   "metadata": {},
   "source": [
    "#### **Import Bibliotek**"
   ]
  },
  {
   "cell_type": "code",
   "execution_count": null,
   "id": "7b0d5db6",
   "metadata": {},
   "outputs": [],
   "source": [
    "import pandas as pd\n",
    "import plotly.express as px"
   ]
  },
  {
   "cell_type": "code",
   "execution_count": null,
   "id": "ad9bf907",
   "metadata": {},
   "outputs": [],
   "source": [
    "with open('data/data.jsonl', 'r') as f:\n",
    "    df = pd.read_json(f, lines=True)"
   ]
  },
  {
   "cell_type": "markdown",
   "id": "b6f54d55",
   "metadata": {},
   "source": [
    "#### **Kryteria (etykiety)**\n",
    "* ##### **Kryterium 1** - Plan Transformacji Klimatycznej (ESRS E1-1)\n",
    "* ##### **Kryterium 2** - Identyfikacja i Zarządzanie Ryzykami (ESRS E1-2)\n",
    "* ##### **Kryterium 4** - Definicja Granic Konsolidacji (ESRS E1-6 Metodyka)\n",
    "* ##### **Kryterium 6** - Raportowanie Danych Historycznych (ESRS 1 + ESRS E1)\n",
    "* ##### **Kryterium 7** - Ujawnienie Wskaźników Intensywności (ESRS E1-6)\n",
    "* ##### **Kryterium 8** - Wiarygodność Zdefiniowanych Celów (ESRS E1-4)"
   ]
  },
  {
   "cell_type": "code",
   "execution_count": null,
   "id": "91b0285a",
   "metadata": {},
   "outputs": [],
   "source": [
    "criterias = ['Kryterium 1', 'Kryterium 2', 'Kryterium 4', 'Kryterium 6', 'Kryterium 7', 'Kryterium 8']"
   ]
  },
  {
   "cell_type": "markdown",
   "id": "08890bdb",
   "metadata": {},
   "source": [
    "## **Dystrybucja ocen ekspertów (etykiet)**"
   ]
  },
  {
   "cell_type": "code",
   "execution_count": null,
   "id": "e367ac88",
   "metadata": {},
   "outputs": [],
   "source": [
    "results_list = []\n",
    "\n",
    "df_len = len(df)\n",
    "for i in range(len(df['labels'][0])):\n",
    "  count_ones = df[df['labels'].str[i] == 1]['labels'].count()\n",
    "  count_zeros = df_len - count_ones\n",
    "  row_data = {\n",
    "      \"Kryterium\": criterias[i],\n",
    "      \"1\": count_ones,\n",
    "      \"0\": count_zeros\n",
    "  }\n",
    "\n",
    "  results_list.append(row_data)\n",
    "\n",
    "data_labels = pd.DataFrame(results_list)"
   ]
  },
  {
   "cell_type": "code",
   "execution_count": null,
   "id": "26d243a4",
   "metadata": {},
   "outputs": [],
   "source": [
    "fig = px.bar(\n",
    "  data_labels, \n",
    "  x=data_labels['Kryterium'], \n",
    "  y=[data_labels['1'], data_labels['0']],\n",
    "  text_auto=True\n",
    ")\n",
    "\n",
    "fig.update_layout(\n",
    "  xaxis_title=\"Kryteria\",\n",
    "  yaxis_title=\"\",\n",
    "  plot_bgcolor='white',\n",
    "  legend_title_text = 'Etykiety'\n",
    ")\n",
    "fig.show()"
   ]
  },
  {
   "cell_type": "markdown",
   "id": "9066007d",
   "metadata": {},
   "source": [
    "### **Dystrybucja ocen ekspertów (etykiet) - wnioski:**\n",
    "\n",
    "Na podstawie przeprowadzonej analizy, można stwierdzić że zbiór jest niezbalansowany pod kątem występowania klas, głównie dla kryteriów 2, 6 i 8, z przewagą klasy negatywnej (0).\n",
    "\n",
    "Podczas fine-tuningu modelu wymagane będzie ustawienie niestandardowych progów dla ewaluacji wyników.\n",
    "\n",
    "Uzasadnione również będzie zastosowanie bardziej agresywnych technik optymalizacji funkcji straty np. Focal Loss."
   ]
  },
  {
   "cell_type": "markdown",
   "id": "a1c4757c",
   "metadata": {},
   "source": [
    "## **Dystrybucja długości raportów**"
   ]
  },
  {
   "cell_type": "code",
   "execution_count": null,
   "id": "77ad8fb3",
   "metadata": {},
   "outputs": [],
   "source": [
    "results_list = []\n",
    "for i in range(len(df['text'])):\n",
    "  results_list.append(len(df['text'][i]))"
   ]
  },
  {
   "cell_type": "code",
   "execution_count": null,
   "id": "7d720dba",
   "metadata": {},
   "outputs": [],
   "source": [
    "fig = px.histogram(\n",
    "  results_list, \n",
    "  x=results_list,\n",
    "  text_auto=True,\n",
    "  nbins=50\n",
    ")\n",
    "\n",
    "fig.update_layout(\n",
    "  yaxis_title = \"Ilość raportów\",\n",
    "  xaxis_title = \"Ilość znaków\",\n",
    "  bargap=0.1\n",
    ")\n",
    "\n",
    "fig.show()"
   ]
  },
  {
   "cell_type": "markdown",
   "id": "e1ef6b17",
   "metadata": {},
   "source": [
    "### **Dystrybucja długości raportów - wnioski:**\n",
    "\n",
    "Dystrybucja jest prawostronnie skośna, z większością raportów o długości od 0 do 400 000 znaków. Długi ogon rozkładu potwierdza obecność kilku bardzo obszernych raportów.\n",
    "\n",
    "Dla procesu treningu modelu oznaczać to będzie konieczność podzielenia raportów na fragmenty oraz zastosowania technik przesuwnego okna podczas tokenizacji. Końcowo będzie to wymagało zastosowania odpowiedniej techniki agregacji wyników."
   ]
  }
 ],
 "metadata": {
  "kernelspec": {
   "display_name": "venv",
   "language": "python",
   "name": "python3"
  },
  "language_info": {
   "codemirror_mode": {
    "name": "ipython",
    "version": 3
   },
   "file_extension": ".py",
   "mimetype": "text/x-python",
   "name": "python",
   "nbconvert_exporter": "python",
   "pygments_lexer": "ipython3",
   "version": "3.12.3"
  }
 },
 "nbformat": 4,
 "nbformat_minor": 5
}
