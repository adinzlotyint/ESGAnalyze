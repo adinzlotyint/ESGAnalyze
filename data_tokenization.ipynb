{
 "cells": [
  {
   "cell_type": "markdown",
   "id": "ac9cd781",
   "metadata": {},
   "source": [
    "## **2. Tokenizacja zbiorów danych**"
   ]
  },
  {
   "cell_type": "markdown",
   "id": "9dbff71d",
   "metadata": {},
   "source": [
    "### **Uwaga!**\n",
    "Ze względu na poufność danych, surowe raporty i adnotacje ekspertów nie są zawarte w tym repozytorium."
   ]
  },
  {
   "cell_type": "markdown",
   "id": "41aa9146",
   "metadata": {},
   "source": [
    "### **Problem:** \n",
    "Wieloetykietowa klasyfikacja długich, nieustrukturyzowanych dokumentów w języku polskim, w warunkach silnego niezbalansowania klas."
   ]
  },
  {
   "cell_type": "markdown",
   "id": "5ba59e66",
   "metadata": {},
   "source": [
    "### **Model enkodera:** sdadas/polish-longformer-base-4096 (https://huggingface.co/sdadas/polish-longformer-base-4096)"
   ]
  },
  {
   "cell_type": "markdown",
   "id": "eb90f0b4",
   "metadata": {},
   "source": [
    "#### **Import Bibliotek**"
   ]
  },
  {
   "cell_type": "code",
   "execution_count": 1,
   "id": "8aea2793",
   "metadata": {},
   "outputs": [],
   "source": [
    "import os\n",
    "import pandas as pd\n",
    "from transformers import LongformerTokenizerFast\n",
    "from datasets import Dataset, DatasetDict"
   ]
  },
  {
   "cell_type": "markdown",
   "id": "53524a16",
   "metadata": {},
   "source": [
    "Ustawienie sztywnych parametrów dla okna kontekstowego zgodnie z dokumentacją modelu Bielik-1.5B-v3 oraz narzucenie wymiaru okna przesuwnego."
   ]
  },
  {
   "cell_type": "code",
   "execution_count": 2,
   "id": "5fed7bab",
   "metadata": {},
   "outputs": [],
   "source": [
    "MODEL_NAME = \"sdadas/polish-longformer-base-4096\"\n",
    "MAX_LENGTH = 4096\n",
    "STRIDE = 512"
   ]
  },
  {
   "cell_type": "code",
   "execution_count": 3,
   "id": "4221adbd",
   "metadata": {},
   "outputs": [],
   "source": [
    "df_train = pd.read_json('data/data_split/train.jsonl', lines=True)\n",
    "df_val = pd.read_json('data/data_split/validation.jsonl', lines=True)\n",
    "df_test = pd.read_json('data/data_split/test.jsonl', lines=True)"
   ]
  },
  {
   "cell_type": "markdown",
   "id": "7e8a0f49",
   "metadata": {},
   "source": [
    "#### **2.1. Przygotowanie do tokenizacji.**"
   ]
  },
  {
   "cell_type": "code",
   "execution_count": 4,
   "id": "611dca9f",
   "metadata": {},
   "outputs": [],
   "source": [
    "train_dataset = Dataset.from_pandas(df_train)\n",
    "val_dataset = Dataset.from_pandas(df_val)\n",
    "test_dataset = Dataset.from_pandas(df_test)\n",
    "\n",
    "raw_datasets = DatasetDict({\n",
    "    \"train\": train_dataset,\n",
    "    \"validation\": val_dataset,\n",
    "    \"test\": test_dataset\n",
    "})"
   ]
  },
  {
   "cell_type": "markdown",
   "id": "d3185328",
   "metadata": {},
   "source": [
    "Wczytanie odpowiedniego tokenizera"
   ]
  },
  {
   "cell_type": "code",
   "execution_count": 5,
   "id": "2b80fcfe",
   "metadata": {},
   "outputs": [
    {
     "data": {
      "application/vnd.jupyter.widget-view+json": {
       "model_id": "45d767e5ff4c4cc7bca04c0097f9afec",
       "version_major": 2,
       "version_minor": 0
      },
      "text/plain": [
       "tokenizer_config.json:   0%|          | 0.00/351 [00:00<?, ?B/s]"
      ]
     },
     "metadata": {},
     "output_type": "display_data"
    },
    {
     "data": {
      "application/vnd.jupyter.widget-view+json": {
       "model_id": "50a953ee7e584765bebf2f23885d7c0d",
       "version_major": 2,
       "version_minor": 0
      },
      "text/plain": [
       "tokenizer.json: 0.00B [00:00, ?B/s]"
      ]
     },
     "metadata": {},
     "output_type": "display_data"
    },
    {
     "data": {
      "application/vnd.jupyter.widget-view+json": {
       "model_id": "be1ec88312c84116afb412a2c3082366",
       "version_major": 2,
       "version_minor": 0
      },
      "text/plain": [
       "special_tokens_map.json:   0%|          | 0.00/239 [00:00<?, ?B/s]"
      ]
     },
     "metadata": {},
     "output_type": "display_data"
    }
   ],
   "source": [
    "tokenizer = LongformerTokenizerFast.from_pretrained(MODEL_NAME)"
   ]
  },
  {
   "cell_type": "markdown",
   "id": "108160c9",
   "metadata": {},
   "source": [
    "#### **2.2. Przeprowadzenie tokenizacji.**"
   ]
  },
  {
   "cell_type": "code",
   "execution_count": 6,
   "id": "9a7dc5f7",
   "metadata": {},
   "outputs": [],
   "source": [
    "def chunk_and_tokenize(examples):\n",
    "    tokenized_output = tokenizer(\n",
    "        examples[\"text\"],\n",
    "        truncation=True,\n",
    "        padding=\"max_length\",\n",
    "        max_length=MAX_LENGTH,\n",
    "        stride=STRIDE,\n",
    "        return_overflowing_tokens=True,\n",
    "        return_offsets_mapping=False,\n",
    "    )\n",
    "\n",
    "    # Pobieramy mapowanie z nowych, podzielonych fragmentów do oryginalnych przykładów\n",
    "    sample_mapping = tokenized_output.pop(\"overflow_to_sample_mapping\")\n",
    "    \n",
    "    # Tworzymy listę etykiet dla każdego nowego fragmentu i dodajemy numer id\n",
    "    labels = []\n",
    "    doc_ids = []\n",
    "    for i in range(len(tokenized_output[\"input_ids\"])):\n",
    "        original_sample_idx = sample_mapping[i]\n",
    "        labels.append(examples[\"labels\"][original_sample_idx])\n",
    "        doc_ids.append(examples[\"doc_id\"][original_sample_idx])\n",
    "    \n",
    "    tokenized_output[\"labels\"] = labels\n",
    "    tokenized_output[\"doc_id\"] = doc_ids\n",
    "    return tokenized_output"
   ]
  },
  {
   "cell_type": "code",
   "execution_count": 10,
   "id": "aa8a8e9b",
   "metadata": {},
   "outputs": [
    {
     "data": {
      "application/vnd.jupyter.widget-view+json": {
       "model_id": "2af8e318a942433cb7483ed5d7b558ac",
       "version_major": 2,
       "version_minor": 0
      },
      "text/plain": [
       "Map (num_proc=8):   0%|          | 0/279 [00:00<?, ? examples/s]"
      ]
     },
     "metadata": {},
     "output_type": "display_data"
    },
    {
     "data": {
      "application/vnd.jupyter.widget-view+json": {
       "model_id": "e4bf8733e2064b5ab030dd0470abd387",
       "version_major": 2,
       "version_minor": 0
      },
      "text/plain": [
       "Map (num_proc=8):   0%|          | 0/57 [00:00<?, ? examples/s]"
      ]
     },
     "metadata": {},
     "output_type": "display_data"
    },
    {
     "data": {
      "application/vnd.jupyter.widget-view+json": {
       "model_id": "72c901edee5645d3a991490fa37e6686",
       "version_major": 2,
       "version_minor": 0
      },
      "text/plain": [
       "Map (num_proc=8):   0%|          | 0/57 [00:00<?, ? examples/s]"
      ]
     },
     "metadata": {},
     "output_type": "display_data"
    }
   ],
   "source": [
    "tokenized_datasets = raw_datasets.map(\n",
    "    chunk_and_tokenize,\n",
    "    batched=True,\n",
    "    remove_columns=raw_datasets[\"train\"].column_names,\n",
    "    num_proc=8\n",
    ")"
   ]
  },
  {
   "cell_type": "markdown",
   "id": "e2dcceb1",
   "metadata": {},
   "source": [
    "#### **2.3. Zapis wyników tokenizacji.**"
   ]
  },
  {
   "cell_type": "code",
   "execution_count": 8,
   "id": "0ac0cb52",
   "metadata": {},
   "outputs": [
    {
     "data": {
      "application/vnd.jupyter.widget-view+json": {
       "model_id": "2cee245971894824ad2ad6e0f67ff049",
       "version_major": 2,
       "version_minor": 0
      },
      "text/plain": [
       "Saving the dataset (0/1 shards):   0%|          | 0/5296 [00:00<?, ? examples/s]"
      ]
     },
     "metadata": {},
     "output_type": "display_data"
    },
    {
     "data": {
      "application/vnd.jupyter.widget-view+json": {
       "model_id": "128a1cd2e815464ab5c8a123ac7ae853",
       "version_major": 2,
       "version_minor": 0
      },
      "text/plain": [
       "Saving the dataset (0/1 shards):   0%|          | 0/900 [00:00<?, ? examples/s]"
      ]
     },
     "metadata": {},
     "output_type": "display_data"
    },
    {
     "data": {
      "application/vnd.jupyter.widget-view+json": {
       "model_id": "3e257146a23245caaae6be090de14a11",
       "version_major": 2,
       "version_minor": 0
      },
      "text/plain": [
       "Saving the dataset (0/1 shards):   0%|          | 0/865 [00:00<?, ? examples/s]"
      ]
     },
     "metadata": {},
     "output_type": "display_data"
    }
   ],
   "source": [
    "\n",
    "OUTPUT_DIR = \"data/data_tokenized\"\n",
    "os.makedirs(OUTPUT_DIR, exist_ok=True)\n",
    "\n",
    "tokenized_datasets.save_to_disk(OUTPUT_DIR)"
   ]
  }
 ],
 "metadata": {
  "kernelspec": {
   "display_name": "venv",
   "language": "python",
   "name": "python3"
  },
  "language_info": {
   "codemirror_mode": {
    "name": "ipython",
    "version": 3
   },
   "file_extension": ".py",
   "mimetype": "text/x-python",
   "name": "python",
   "nbconvert_exporter": "python",
   "pygments_lexer": "ipython3",
   "version": "3.12.3"
  }
 },
 "nbformat": 4,
 "nbformat_minor": 5
}
